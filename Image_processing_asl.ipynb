{
  "nbformat": 4,
  "nbformat_minor": 0,
  "metadata": {
    "colab": {
      "name": "Image_processing_asl.ipynb",
      "provenance": []
    },
    "kernelspec": {
      "name": "python3",
      "display_name": "Python 3"
    },
    "language_info": {
      "name": "python"
    }
  },
  "cells": [
    {
      "cell_type": "markdown",
      "source": [
        "# Directory dataset to Kaggle"
      ],
      "metadata": {
        "id": "4zIGv3XH69PS"
      }
    },
    {
      "cell_type": "code",
      "execution_count": 1,
      "metadata": {
        "colab": {
          "base_uri": "https://localhost:8080/"
        },
        "id": "_HQX2N3e5Ep_",
        "outputId": "bbe9c9e8-544f-4c49-f6fb-a3184887970d"
      },
      "outputs": [
        {
          "output_type": "stream",
          "name": "stdout",
          "text": [
            "Requirement already satisfied: kaggle in /usr/local/lib/python3.7/dist-packages (1.5.12)\n",
            "Requirement already satisfied: tqdm in /usr/local/lib/python3.7/dist-packages (from kaggle) (4.63.0)\n",
            "Requirement already satisfied: python-dateutil in /usr/local/lib/python3.7/dist-packages (from kaggle) (2.8.2)\n",
            "Requirement already satisfied: urllib3 in /usr/local/lib/python3.7/dist-packages (from kaggle) (1.24.3)\n",
            "Requirement already satisfied: six>=1.10 in /usr/local/lib/python3.7/dist-packages (from kaggle) (1.15.0)\n",
            "Requirement already satisfied: certifi in /usr/local/lib/python3.7/dist-packages (from kaggle) (2021.10.8)\n",
            "Requirement already satisfied: python-slugify in /usr/local/lib/python3.7/dist-packages (from kaggle) (6.1.1)\n",
            "Requirement already satisfied: requests in /usr/local/lib/python3.7/dist-packages (from kaggle) (2.23.0)\n",
            "Requirement already satisfied: text-unidecode>=1.3 in /usr/local/lib/python3.7/dist-packages (from python-slugify->kaggle) (1.3)\n",
            "Requirement already satisfied: chardet<4,>=3.0.2 in /usr/local/lib/python3.7/dist-packages (from requests->kaggle) (3.0.4)\n",
            "Requirement already satisfied: idna<3,>=2.5 in /usr/local/lib/python3.7/dist-packages (from requests->kaggle) (2.10)\n"
          ]
        }
      ],
      "source": [
        "pip install kaggle"
      ]
    },
    {
      "cell_type": "code",
      "source": [
        "! mkdir ~/.kaggle"
      ],
      "metadata": {
        "colab": {
          "base_uri": "https://localhost:8080/"
        },
        "id": "AWKVpi2N5J8-",
        "outputId": "4b71886e-885a-4761-caed-66edd0dc0d7f"
      },
      "execution_count": 2,
      "outputs": [
        {
          "output_type": "stream",
          "name": "stdout",
          "text": [
            "mkdir: cannot create directory ‘/root/.kaggle’: File exists\n"
          ]
        }
      ]
    },
    {
      "cell_type": "code",
      "source": [
        "! cp kaggle.json ~/.kaggle/"
      ],
      "metadata": {
        "id": "_YtFtGNA5Njz"
      },
      "execution_count": 3,
      "outputs": []
    },
    {
      "cell_type": "code",
      "source": [
        "! chmod 600 ~/.kaggle/kaggle.json"
      ],
      "metadata": {
        "id": "D3kkQ34n5RLJ"
      },
      "execution_count": 4,
      "outputs": []
    },
    {
      "cell_type": "code",
      "source": [
        " ! kaggle datasets list"
      ],
      "metadata": {
        "colab": {
          "base_uri": "https://localhost:8080/"
        },
        "id": "bY0cEomU5UBj",
        "outputId": "85eed2ae-5d79-4c66-cfca-6d4f4e12733d"
      },
      "execution_count": 5,
      "outputs": [
        {
          "output_type": "stream",
          "name": "stdout",
          "text": [
            "ref                                                            title                                             size  lastUpdated          downloadCount  voteCount  usabilityRating  \n",
            "-------------------------------------------------------------  -----------------------------------------------  -----  -------------------  -------------  ---------  ---------------  \n",
            "datasets/piterfm/2022-ukraine-russian-war                      2022 Ukraine Russia War                            2KB  2022-04-10 11:26:39           6722        386  1.0              \n",
            "datasets/kamilpytlak/personal-key-indicators-of-heart-disease  Personal Key Indicators of Heart Disease           3MB  2022-02-16 10:18:03          10415        230  1.0              \n",
            "datasets/ankanhore545/cost-of-living-index-2022                Cost of Living Index 2022                          4KB  2022-04-09 06:22:10           2321         35  0.8235294        \n",
            "datasets/prasertk/best-tv-shows-of-all-time                    Best TV shows of all time                        571KB  2022-04-05 04:06:09            544         24  1.0              \n",
            "datasets/prasertk/historical-commodity-prices-from-20002022    Major commodity prices from 2000-2022            399KB  2022-04-09 15:32:08            908         30  1.0              \n",
            "datasets/vivek468/superstore-dataset-final                     Superstore Dataset                               550KB  2022-02-17 11:33:07           7670        162  1.0              \n",
            "datasets/xhlulu/cpc-codes                                      Cooperative Patent Classification Codes Meaning    5MB  2022-03-22 03:04:36            412         68  1.0              \n",
            "datasets/amandam1/twitter-daily-stock-prices-20132022          Twitter Daily Stock Prices 2013-2022              39KB  2022-04-06 01:36:58            361         21  1.0              \n",
            "datasets/kuchhbhi/latest-laptop-price-list                     Laptop Specs and latest price                     18KB  2022-04-03 17:41:17           1137         34  1.0              \n",
            "datasets/prasertk/major-social-media-stock-prices-20122022     Major social media stock prices 2012-2022        175KB  2022-04-07 08:04:53            316         17  1.0              \n",
            "datasets/ivanchvez/causes-of-death-our-world-in-data           Causes of Death - Our World In Data                1MB  2022-03-29 18:35:21           1020         29  0.9705882        \n",
            "datasets/ashishjangra27/ted-talks                              TED Talks                                        298KB  2022-02-23 15:16:08           4053        178  1.0              \n",
            "datasets/disham993/9000-movies-dataset                         9000+ Movies Dataset                               2MB  2022-03-11 17:09:22           1143         22  1.0              \n",
            "datasets/kkhandekar/stolen-vehicle-dataset                     Stolen Vehicle Dataset                            46KB  2022-04-05 21:49:11            305         24  1.0              \n",
            "datasets/bhanuprasanna527/stock-market-prediction              IBM - Real Time Stock Analysis                     3MB  2022-03-26 10:07:31            716         27  0.9411765        \n",
            "datasets/prasertk/healthy-lifestyle-cities-report-2021         Healthy Lifestyle Cities Report 2021               2KB  2022-03-03 00:26:02           4205        114  1.0              \n",
            "datasets/vardhansiramdasu/fraudulent-transactions-prediction   Fraudulent Transactions Prediction               178MB  2022-03-21 16:08:45           1309         43  1.0              \n",
            "datasets/ajaypalsinghlo/world-happiness-report-2022            world happiness report 2022                        5KB  2022-03-21 13:41:15           1658         41  0.9705882        \n",
            "datasets/datahackers/state-of-data-2021                        State of Data Brazil 2021                        539KB  2022-03-31 18:48:28            155         63  0.9705882        \n",
            "datasets/equinxx/spotify-top-50-songs-in-2021                  Spotify top 50 songs in 2021                       4KB  2022-03-17 22:59:45           2334         62  1.0              \n"
          ]
        }
      ]
    },
    {
      "cell_type": "markdown",
      "source": [
        "Download data dari kaggle"
      ],
      "metadata": {
        "id": "qc0L9sDF7F8f"
      }
    },
    {
      "cell_type": "code",
      "source": [
        "! kaggle datasets download -d grassknoted/asl-alphabet"
      ],
      "metadata": {
        "colab": {
          "base_uri": "https://localhost:8080/"
        },
        "id": "9FvrrwGQ5ZQp",
        "outputId": "f91d2c06-5ef6-4664-fc95-0a61a1219f42"
      },
      "execution_count": 6,
      "outputs": [
        {
          "output_type": "stream",
          "name": "stdout",
          "text": [
            "asl-alphabet.zip: Skipping, found more recently modified local copy (use --force to force download)\n"
          ]
        }
      ]
    },
    {
      "cell_type": "code",
      "source": [
        "! mkdir asl-alphabet"
      ],
      "metadata": {
        "colab": {
          "base_uri": "https://localhost:8080/"
        },
        "id": "wM28BaTn5nAV",
        "outputId": "ad36e384-801a-441d-c6d7-c213b2ccfac3"
      },
      "execution_count": 7,
      "outputs": [
        {
          "output_type": "stream",
          "name": "stdout",
          "text": [
            "mkdir: cannot create directory ‘asl-alphabet’: File exists\n"
          ]
        }
      ]
    },
    {
      "cell_type": "code",
      "source": [
        ""
      ],
      "metadata": {
        "id": "i48rjBj9yQyL"
      },
      "execution_count": null,
      "outputs": []
    },
    {
      "cell_type": "code",
      "source": [
        "! unzip asl-alphabet.zip -d asl-alphabet"
      ],
      "metadata": {
        "colab": {
          "base_uri": "https://localhost:8080/"
        },
        "id": "iL-Uhfn45sFa",
        "outputId": "435a49d9-dd6c-4722-e4c5-fd755d3cd6d9"
      },
      "execution_count": 8,
      "outputs": [
        {
          "output_type": "stream",
          "name": "stdout",
          "text": [
            "Archive:  asl-alphabet.zip\n",
            "replace asl-alphabet/asl_alphabet_test/asl_alphabet_test/A_test.jpg? [y]es, [n]o, [A]ll, [N]one, [r]ename: N\n"
          ]
        }
      ]
    },
    {
      "cell_type": "markdown",
      "source": [
        "# Import library dan preprocessing data"
      ],
      "metadata": {
        "id": "UdEpK9-T7LCU"
      }
    },
    {
      "cell_type": "code",
      "source": [
        "import cv2\n",
        "import numpy as np \n",
        "import pandas as pd\n",
        "import random\n",
        "import matplotlib.pyplot as plt\n",
        "import seaborn as sns\n",
        "import tensorflow as tf\n",
        "import tensorflow.keras\n",
        "import os\n",
        "import skimage"
      ],
      "metadata": {
        "id": "dSBArm-t5_Si"
      },
      "execution_count": 1,
      "outputs": []
    },
    {
      "cell_type": "code",
      "source": [
        "## print(os.listdir(\"/content/asl-alphabet/asl_alphabet_test/\"))"
      ],
      "metadata": {
        "colab": {
          "base_uri": "https://localhost:8080/"
        },
        "id": "8x49iECKo2We",
        "outputId": "1b6a1b9a-8b1c-4cc7-d690-a16db1663e56"
      },
      "execution_count": 28,
      "outputs": [
        {
          "output_type": "stream",
          "name": "stdout",
          "text": [
            "['asl_alphabet_test']\n"
          ]
        }
      ]
    },
    {
      "cell_type": "code",
      "source": [
        "from skimage.transform import resize\n",
        "batch_size = 64\n",
        "imageSize = 64\n",
        "target_dims = (imageSize, imageSize, 3)\n",
        "num_classes = 29\n",
        "\n",
        "train_len = 87000\n",
        "train_dir = '/content/asl-alphabet/asl_alphabet_train/asl_alphabet_train/'\n",
        "\n",
        "def get_data(folder):\n",
        "    X = np.empty((train_len, imageSize, imageSize, 3), dtype=np.float32)\n",
        "    y = np.empty((train_len,), dtype=np.int)\n",
        "    cnt = 0\n",
        "    for folderName in os.listdir(folder):\n",
        "        if not folderName.startswith('.'):\n",
        "            if folderName in ['A']:\n",
        "                label = 0\n",
        "            elif folderName in ['B']:\n",
        "                label = 1\n",
        "            elif folderName in ['C']:\n",
        "                label = 2\n",
        "            elif folderName in ['D']:\n",
        "                label = 3\n",
        "            elif folderName in ['E']:\n",
        "                label = 4\n",
        "            elif folderName in ['F']:\n",
        "                label = 5\n",
        "            elif folderName in ['G']:\n",
        "                label = 6\n",
        "            elif folderName in ['H']:\n",
        "                label = 7\n",
        "            elif folderName in ['I']:\n",
        "                label = 8\n",
        "            elif folderName in ['J']:\n",
        "                label = 9\n",
        "            elif folderName in ['K']:\n",
        "                label = 10\n",
        "            elif folderName in ['L']:\n",
        "                label = 11\n",
        "            elif folderName in ['M']:\n",
        "                label = 12\n",
        "            elif folderName in ['N']:\n",
        "                label = 13\n",
        "            elif folderName in ['O']:\n",
        "                label = 14\n",
        "            elif folderName in ['P']:\n",
        "                label = 15\n",
        "            elif folderName in ['Q']:\n",
        "                label = 16\n",
        "            elif folderName in ['R']:\n",
        "                label = 17\n",
        "            elif folderName in ['S']:\n",
        "                label = 18\n",
        "            elif folderName in ['T']:\n",
        "                label = 19\n",
        "            elif folderName in ['U']:\n",
        "                label = 20\n",
        "            elif folderName in ['V']:\n",
        "                label = 21\n",
        "            elif folderName in ['W']:\n",
        "                label = 22\n",
        "            elif folderName in ['X']:\n",
        "                label = 23\n",
        "            elif folderName in ['Y']:\n",
        "                label = 24\n",
        "            elif folderName in ['Z']:\n",
        "                label = 25\n",
        "            elif folderName in ['del']:\n",
        "                label = 26\n",
        "            elif folderName in ['nothing']:\n",
        "                label = 27\n",
        "            elif folderName in ['space']:\n",
        "                label = 28           \n",
        "            else:\n",
        "                label = 29\n",
        "            for image_filename in os.listdir(folder + folderName):\n",
        "                img_file = cv2.imread(folder + folderName + '/' + image_filename)\n",
        "                if img_file is not None:\n",
        "                    img_file = skimage.transform.resize(img_file, (imageSize, imageSize, 3))\n",
        "                    img_arr = np.asarray(img_file).reshape((-1, imageSize, imageSize, 3))\n",
        "                    \n",
        "                    X[cnt] = img_arr\n",
        "                    y[cnt] = label\n",
        "                    cnt += 1\n",
        "    return X,y\n",
        "X_train, y_train = get_data(train_dir)"
      ],
      "metadata": {
        "colab": {
          "base_uri": "https://localhost:8080/"
        },
        "id": "yxP0h5sl6Bkd",
        "outputId": "a99c7223-8934-4763-ec18-86da4ddae76c"
      },
      "execution_count": 2,
      "outputs": [
        {
          "output_type": "stream",
          "name": "stderr",
          "text": [
            "/usr/local/lib/python3.7/dist-packages/ipykernel_launcher.py:12: DeprecationWarning: `np.int` is a deprecated alias for the builtin `int`. To silence this warning, use `int` by itself. Doing this will not modify any behavior and is safe. When replacing `np.int`, you may wish to use e.g. `np.int64` or `np.int32` to specify the precision. If you wish to review your current use, check the release note link for additional information.\n",
            "Deprecated in NumPy 1.20; for more details and guidance: https://numpy.org/devdocs/release/1.20.0-notes.html#deprecations\n",
            "  if sys.path[0] == '':\n"
          ]
        }
      ]
    },
    {
      "cell_type": "markdown",
      "source": [
        "Lihat ukuran gambar"
      ],
      "metadata": {
        "id": "dAXCdb9otK94"
      }
    },
    {
      "cell_type": "code",
      "source": [
        "X_train.shape\n"
      ],
      "metadata": {
        "colab": {
          "base_uri": "https://localhost:8080/"
        },
        "id": "7_AXYsL76tTE",
        "outputId": "4d6c452e-be31-4e0e-b907-a870e30328f4"
      },
      "execution_count": 3,
      "outputs": [
        {
          "output_type": "execute_result",
          "data": {
            "text/plain": [
              "(87000, 64, 64, 3)"
            ]
          },
          "metadata": {},
          "execution_count": 3
        }
      ]
    },
    {
      "cell_type": "code",
      "source": [
        "y_train.shape"
      ],
      "metadata": {
        "colab": {
          "base_uri": "https://localhost:8080/"
        },
        "id": "A19KaV3h645h",
        "outputId": "a93dd9c6-8dbb-4595-9bc8-1c9f052c2f6c"
      },
      "execution_count": 4,
      "outputs": [
        {
          "output_type": "execute_result",
          "data": {
            "text/plain": [
              "(87000,)"
            ]
          },
          "metadata": {},
          "execution_count": 4
        }
      ]
    },
    {
      "cell_type": "code",
      "source": [
        "X_train[0].shape"
      ],
      "metadata": {
        "colab": {
          "base_uri": "https://localhost:8080/"
        },
        "id": "3A1acQAxPtDu",
        "outputId": "80e77a8b-59f1-43dc-dbd8-d2c6d55585ae"
      },
      "execution_count": 5,
      "outputs": [
        {
          "output_type": "execute_result",
          "data": {
            "text/plain": [
              "(64, 64, 3)"
            ]
          },
          "metadata": {},
          "execution_count": 5
        }
      ]
    },
    {
      "cell_type": "code",
      "source": [
        "X_data = X_train\n",
        "y_data = y_train"
      ],
      "metadata": {
        "id": "q2wb_x69H83G"
      },
      "execution_count": 6,
      "outputs": []
    },
    {
      "cell_type": "markdown",
      "source": [
        "lihat image"
      ],
      "metadata": {
        "id": "P4jIT523tIeq"
      }
    },
    {
      "cell_type": "code",
      "source": [
        "plt.imshow(X_data[0])\n",
        "plt.show()\n",
        "print(X_data[0])"
      ],
      "metadata": {
        "colab": {
          "base_uri": "https://localhost:8080/",
          "height": 1000
        },
        "id": "kXgV86rJnRVR",
        "outputId": "d874944e-a5fa-4eb0-885d-167760bec0c9"
      },
      "execution_count": 7,
      "outputs": [
        {
          "output_type": "display_data",
          "data": {
            "text/plain": [
              "<Figure size 432x288 with 1 Axes>"
            ],
            "image/png": "[encoded data removed]"
          },
          "metadata": {
            "needs_background": "light"
          }
        },
        {
          "output_type": "stream",
          "name": "stdout",
          "text": [
            "[[[0.8423407  0.00784314 0.0129902 ]\n",
            "  [0.6199602  0.01568628 0.0245098 ]\n",
            "  [0.6112745  0.00923713 0.03227635]\n",
            "  ...\n",
            "  [0.63008577 0.05001532 0.06799939]\n",
            "  [0.68054533 0.09765625 0.11731005]\n",
            "  [0.784712   0.06821385 0.08094363]]\n",
            "\n",
            " [[0.6092678  0.01602328 0.04024203]\n",
            "  [0.04289216 0.03284314 0.08137255]\n",
            "  [0.02892157 0.02622549 0.09140625]\n",
            "  ...\n",
            "  [0.21000306 0.21933211 0.25536153]\n",
            "  [0.27775735 0.2610907  0.3009038 ]\n",
            "  [0.4617647  0.18647365 0.19799326]]\n",
            "\n",
            " [[0.6280944  0.04082414 0.05471814]\n",
            "  [0.06424633 0.0997549  0.1399663 ]\n",
            "  [0.0375     0.08161765 0.13651961]\n",
            "  ...\n",
            "  [0.25983456 0.2685202  0.30405945]\n",
            "  [0.24880515 0.24241728 0.28287378]\n",
            "  [0.4516391  0.1867647  0.19649203]]\n",
            "\n",
            " ...\n",
            "\n",
            " [[0.7970588  0.2136489  0.2136489 ]\n",
            "  [0.5887408  0.6120098  0.61420035]\n",
            "  [0.54264706 0.6175398  0.62352943]\n",
            "  ...\n",
            "  [0.98308825 0.9909314  0.8437653 ]\n",
            "  [0.96714157 0.99215686 0.8620098 ]\n",
            "  [0.8889706  0.75710785 0.6696844 ]]\n",
            "\n",
            " [[0.792693   0.21328124 0.2134804 ]\n",
            "  [0.5905484  0.6022059  0.6177543 ]\n",
            "  [0.5745098  0.6227941  0.6237592 ]\n",
            "  ...\n",
            "  [0.9679075  0.9889706  0.8522059 ]\n",
            "  [0.9487745  0.9889706  0.8691176 ]\n",
            "  [0.8867647  0.7558824  0.6791667 ]]\n",
            "\n",
            " [[0.85807294 0.16119792 0.16582415]\n",
            "  [0.7207874  0.46303615 0.4819087 ]\n",
            "  [0.72222733 0.4734528  0.4734528 ]\n",
            "  ...\n",
            "  [0.8901961  0.7519608  0.6669118 ]\n",
            "  [0.8867647  0.7522059  0.6754902 ]\n",
            "  [0.8510723  0.5807598  0.5243719 ]]]\n"
          ]
        }
      ]
    },
    {
      "cell_type": "markdown",
      "source": [
        "Split Data set"
      ],
      "metadata": {
        "id": "dYPFycelu-_K"
      }
    },
    {
      "cell_type": "code",
      "source": [
        "from sklearn.model_selection import train_test_split\n",
        "\n",
        "X_train, X_test, y_train, y_test = train_test_split(X_data, y_data, test_size=0.3,random_state=65,stratify=y_data)"
      ],
      "metadata": {
        "id": "v2QD7qfeu93Z"
      },
      "execution_count": 8,
      "outputs": []
    },
    {
      "cell_type": "code",
      "source": [
        "from tensorflow.keras.utils import to_categorical\n",
        "y_cat_train = to_categorical(y_train,29)\n",
        "y_cat_test = to_categorical(y_test,29)"
      ],
      "metadata": {
        "id": "CPe6lI547t9n"
      },
      "execution_count": 9,
      "outputs": []
    },
    {
      "cell_type": "code",
      "source": [
        "print(X_train.shape)\n",
        "print(y_train.shape)\n",
        "print(X_test.shape)\n",
        "print(y_test.shape)\n",
        "print(y_cat_train.shape)\n",
        "print(y_cat_test.shape)"
      ],
      "metadata": {
        "colab": {
          "base_uri": "https://localhost:8080/"
        },
        "id": "-LGovTdA9ixv",
        "outputId": "fa66b2f8-4497-4ae5-d6b4-7ce1cadfddaa"
      },
      "execution_count": 10,
      "outputs": [
        {
          "output_type": "stream",
          "name": "stdout",
          "text": [
            "(60900, 64, 64, 3)\n",
            "(60900,)\n",
            "(26100, 64, 64, 3)\n",
            "(26100,)\n",
            "(60900, 29)\n",
            "(26100, 29)\n"
          ]
        }
      ]
    },
    {
      "cell_type": "code",
      "source": [
        "import gc\n",
        "del X_data\n",
        "del y_data\n",
        "gc.collect()"
      ],
      "metadata": {
        "colab": {
          "base_uri": "https://localhost:8080/"
        },
        "id": "MOGXDA2c9lOy",
        "outputId": "99ec737e-2bd6-4af6-84e4-d938f7f449c9"
      },
      "execution_count": 11,
      "outputs": [
        {
          "output_type": "execute_result",
          "data": {
            "text/plain": [
              "2721"
            ]
          },
          "metadata": {},
          "execution_count": 11
        }
      ]
    },
    {
      "cell_type": "markdown",
      "source": [
        "# Modeling"
      ],
      "metadata": {
        "id": "chhkLASA67fX"
      }
    },
    {
      "cell_type": "code",
      "source": [
        "from tensorflow.keras.callbacks import EarlyStopping,ReduceLROnPlateau\n",
        "\n",
        "early_stop = tf.keras.callbacks.EarlyStopping(monitor=\"val_accuracy\", min_delta=1e-2, patience=1, verbose=1, restore_best_weights=True)\n",
        "reduce_lr_on_plateau = tf.keras.callbacks.ReduceLROnPlateau(monitor=\"val_accuracy\", factor=1e-1, patience=5, verbose=1, min_delta=1e-2)"
      ],
      "metadata": {
        "id": "8VinZv2i_w6n"
      },
      "execution_count": 12,
      "outputs": []
    },
    {
      "cell_type": "markdown",
      "source": [
        "## Modelling experimen 1"
      ],
      "metadata": {
        "id": "R1Te2ajGtUuV"
      }
    },
    {
      "cell_type": "code",
      "source": [
        "from tensorflow.keras.layers import Conv2D, Dense, Dropout, Flatten\n",
        "from tensorflow.keras.models import Sequential"
      ],
      "metadata": {
        "id": "Mdrikq0CCFZr"
      },
      "execution_count": 13,
      "outputs": []
    },
    {
      "cell_type": "code",
      "source": [
        "model1 = tf.keras.models.Sequential([\n",
        "                                    tf.keras.layers.Input(shape=(64, 64, 3)),\n",
        "                                    tf.keras.layers.Flatten(), \n",
        "                                    tf.keras.layers.Dense(64, activation=\"relu\"), \n",
        "                                    tf.keras.layers.Dense(29, activation=\"softmax\")\n",
        "                                    ])\n",
        "model1.compile(\n",
        "    optimizer=tf.keras.optimizers.Adam(1e-3),\n",
        "    loss=\"categorical_crossentropy\",\n",
        "    metrics=[\"accuracy\"]\n",
        ")\n",
        "\n",
        "model1.summary()"
      ],
      "metadata": {
        "colab": {
          "base_uri": "https://localhost:8080/"
        },
        "id": "emFCmNKg_ei5",
        "outputId": "9c39fa00-4fc0-41fa-dc24-2c3f8425d126"
      },
      "execution_count": 14,
      "outputs": [
        {
          "output_type": "stream",
          "name": "stdout",
          "text": [
            "Model: \"sequential\"\n",
            "_________________________________________________________________\n",
            " Layer (type)                Output Shape              Param #   \n",
            "=================================================================\n",
            " flatten (Flatten)           (None, 12288)             0         \n",
            "                                                                 \n",
            " dense (Dense)               (None, 64)                786496    \n",
            "                                                                 \n",
            " dense_1 (Dense)             (None, 29)                1885      \n",
            "                                                                 \n",
            "=================================================================\n",
            "Total params: 788,381\n",
            "Trainable params: 788,381\n",
            "Non-trainable params: 0\n",
            "_________________________________________________________________\n"
          ]
        }
      ]
    },
    {
      "cell_type": "code",
      "source": [
        "hist1 = model1.fit(X_train, y_cat_train,\n",
        "          epochs=50,\n",
        "          batch_size=64,\n",
        "          verbose=2,\n",
        "          validation_data=(X_test, y_cat_test),\n",
        "          callbacks=[early_stop])"
      ],
      "metadata": {
        "colab": {
          "base_uri": "https://localhost:8080/"
        },
        "id": "ZVkU8nDO_zvS",
        "outputId": "26f538d8-2757-4eb9-f7d5-9d461fac0fe1"
      },
      "execution_count": 15,
      "outputs": [
        {
          "output_type": "stream",
          "name": "stdout",
          "text": [
            "Epoch 1/50\n",
            "952/952 - 36s - loss: 3.3782 - accuracy: 0.0341 - val_loss: 3.3673 - val_accuracy: 0.0345 - 36s/epoch - 38ms/step\n",
            "Epoch 2/50\n",
            "Restoring model weights from the end of the best epoch: 1.\n",
            "952/952 - 33s - loss: 3.3675 - accuracy: 0.0333 - val_loss: 3.3673 - val_accuracy: 0.0345 - 33s/epoch - 34ms/step\n",
            "Epoch 2: early stopping\n"
          ]
        }
      ]
    },
    {
      "cell_type": "code",
      "source": [
        "accuracy = hist1.history['accuracy']\n",
        "val_accuracy = hist1.history['val_accuracy']\n",
        "loss = hist1.history['loss']\n",
        "val_loss = hist1.history['val_loss']\n",
        "epochs = range(len(accuracy))\n",
        "plt.plot(epochs, accuracy, 'bo', label='Training accuracy')\n",
        "plt.plot(epochs, val_accuracy, 'b', label='Validation accuracy')\n",
        "plt.title('Training and validation accuracy')\n",
        "plt.legend()\n",
        "plt.figure()\n",
        "plt.plot(epochs, loss, 'bo', label='Training loss')\n",
        "plt.plot(epochs, val_loss, 'b', label='Validation loss')\n",
        "plt.title('Training and validation loss')\n",
        "plt.legend()\n",
        "plt.show()"
      ],
      "metadata": {
        "colab": {
          "base_uri": "https://localhost:8080/",
          "height": 545
        },
        "id": "pPp1dYgSOi6c",
        "outputId": "4686f6f0-42ee-4003-c961-885effbc707a"
      },
      "execution_count": 16,
      "outputs": [
        {
          "output_type": "display_data",
          "data": {
            "text/plain": [
              "<Figure size 432x288 with 1 Axes>"
            ],
            "image/png": "[encoded data removed]"
          },
          "metadata": {
            "needs_background": "light"
          }
        },
        {
          "output_type": "display_data",
          "data": {
            "text/plain": [
              "<Figure size 432x288 with 1 Axes>"
            ],
            "image/png": "[encoded data removed]"
          },
          "metadata": {
            "needs_background": "light"
          }
        }
      ]
    },
    {
      "cell_type": "markdown",
      "source": [
        "## Modelling Experimen 2\n"
      ],
      "metadata": {
        "id": "jx4WcjgSTx9k"
      }
    },
    {
      "cell_type": "code",
      "source": [
        "cnn_model1 = tf.keras.models.Sequential([\n",
        "  tf.keras.layers.Conv2D(64, (3,3), activation='relu', input_shape=(64, 64, 3)),\n",
        "  tf.keras.layers.MaxPooling2D(2, 2),\n",
        "  tf.keras.layers.Conv2D(64, (3,3), activation='relu'),\n",
        "  tf.keras.layers.MaxPooling2D(2,2),\n",
        "  tf.keras.layers.Flatten(),\n",
        "  tf.keras.layers.Dense(64, activation='relu'),\n",
        "  tf.keras.layers.Dense(29, activation='softmax')\n",
        "])\n",
        "cnn_model1.compile(optimizer='adam', loss='categorical_crossentropy', metrics=['accuracy'])\n",
        "cnn_model1.summary()"
      ],
      "metadata": {
        "colab": {
          "base_uri": "https://localhost:8080/"
        },
        "id": "C_n4TYayT1RJ",
        "outputId": "015be643-ef91-4b97-bd38-07ae45f3bf1a"
      },
      "execution_count": 17,
      "outputs": [
        {
          "output_type": "stream",
          "name": "stdout",
          "text": [
            "Model: \"sequential_1\"\n",
            "_________________________________________________________________\n",
            " Layer (type)                Output Shape              Param #   \n",
            "=================================================================\n",
            " conv2d (Conv2D)             (None, 62, 62, 64)        1792      \n",
            "                                                                 \n",
            " max_pooling2d (MaxPooling2D  (None, 31, 31, 64)       0         \n",
            " )                                                               \n",
            "                                                                 \n",
            " conv2d_1 (Conv2D)           (None, 29, 29, 64)        36928     \n",
            "                                                                 \n",
            " max_pooling2d_1 (MaxPooling  (None, 14, 14, 64)       0         \n",
            " 2D)                                                             \n",
            "                                                                 \n",
            " flatten_1 (Flatten)         (None, 12544)             0         \n",
            "                                                                 \n",
            " dense_2 (Dense)             (None, 64)                802880    \n",
            "                                                                 \n",
            " dense_3 (Dense)             (None, 29)                1885      \n",
            "                                                                 \n",
            "=================================================================\n",
            "Total params: 843,485\n",
            "Trainable params: 843,485\n",
            "Non-trainable params: 0\n",
            "_________________________________________________________________\n"
          ]
        }
      ]
    },
    {
      "cell_type": "code",
      "source": [
        "! mkdir cnn_model1"
      ],
      "metadata": {
        "id": "LeTPiVa3qCR9"
      },
      "execution_count": 61,
      "outputs": []
    },
    {
      "cell_type": "code",
      "source": [
        "checkpoint_path = \"cnn_model1/cp.ckpt\"\n",
        "checkpoint_dir = os.path.dirname(checkpoint_path)\n",
        "\n",
        "# Create a callback that saves the model's weights\n",
        "cp_callback = tf.keras.callbacks.ModelCheckpoint(filepath=checkpoint_path,\n",
        "                                                 save_weights_only=True,\n",
        "                                                 verbose=1)"
      ],
      "metadata": {
        "id": "iOhHL4jnpO9N"
      },
      "execution_count": 18,
      "outputs": []
    },
    {
      "cell_type": "code",
      "source": [
        "hist2 = cnn_model1.fit(X_train, y_cat_train,\n",
        "          epochs=100,\n",
        "          batch_size=64,\n",
        "          verbose=1,\n",
        "          validation_data=(X_test, y_cat_test),\n",
        "          callbacks=[early_stop, cp_callback])"
      ],
      "metadata": {
        "colab": {
          "base_uri": "https://localhost:8080/"
        },
        "id": "g0Pdhr8UWWcb",
        "outputId": "df683edb-11be-4bbb-976e-2fe73d1e1d3c"
      },
      "execution_count": 19,
      "outputs": [
        {
          "output_type": "stream",
          "name": "stdout",
          "text": [
            "Epoch 1/100\n",
            "952/952 [==============================] - ETA: 0s - loss: 1.2538 - accuracy: 0.6297\n",
            "Epoch 1: saving model to cnn_model1/cp.ckpt\n",
            "952/952 [==============================] - 623s 654ms/step - loss: 1.2538 - accuracy: 0.6297 - val_loss: 0.4164 - val_accuracy: 0.8715\n",
            "Epoch 2/100\n",
            "952/952 [==============================] - ETA: 0s - loss: 0.2379 - accuracy: 0.9249\n",
            "Epoch 2: saving model to cnn_model1/cp.ckpt\n",
            "952/952 [==============================] - 637s 669ms/step - loss: 0.2379 - accuracy: 0.9249 - val_loss: 0.1729 - val_accuracy: 0.9469\n",
            "Epoch 3/100\n",
            "952/952 [==============================] - ETA: 0s - loss: 0.1125 - accuracy: 0.9644\n",
            "Epoch 3: saving model to cnn_model1/cp.ckpt\n",
            "952/952 [==============================] - 638s 670ms/step - loss: 0.1125 - accuracy: 0.9644 - val_loss: 0.1233 - val_accuracy: 0.9581\n",
            "Epoch 4/100\n",
            "952/952 [==============================] - ETA: 0s - loss: 0.0740 - accuracy: 0.9764\n",
            "Epoch 4: saving model to cnn_model1/cp.ckpt\n",
            "952/952 [==============================] - 628s 660ms/step - loss: 0.0740 - accuracy: 0.9764 - val_loss: 0.0501 - val_accuracy: 0.9857\n",
            "Epoch 5/100\n",
            "952/952 [==============================] - ETA: 0s - loss: 0.0492 - accuracy: 0.9852Restoring model weights from the end of the best epoch: 4.\n",
            "\n",
            "Epoch 5: saving model to cnn_model1/cp.ckpt\n",
            "952/952 [==============================] - 639s 671ms/step - loss: 0.0492 - accuracy: 0.9852 - val_loss: 0.0645 - val_accuracy: 0.9785\n",
            "Epoch 5: early stopping\n"
          ]
        }
      ]
    },
    {
      "cell_type": "code",
      "source": [
        "accuracy = hist2.history['accuracy']\n",
        "val_accuracy = hist2.history['val_accuracy']\n",
        "loss = hist2.history['loss']\n",
        "val_loss = hist2.history['val_loss']\n",
        "epochs = range(len(accuracy))\n",
        "plt.plot(epochs, accuracy, 'bo', label='Training accuracy')\n",
        "plt.plot(epochs, val_accuracy, 'b', label='Validation accuracy')\n",
        "plt.title('Training and validation accuracy')\n",
        "plt.legend()\n",
        "plt.figure()\n",
        "plt.plot(epochs, loss, 'bo', label='Training loss')\n",
        "plt.plot(epochs, val_loss, 'b', label='Validation loss')\n",
        "plt.title('Training and validation loss')\n",
        "plt.legend()\n",
        "plt.show()"
      ],
      "metadata": {
        "colab": {
          "base_uri": "https://localhost:8080/",
          "height": 545
        },
        "id": "eMF-XZsYpQKG",
        "outputId": "3385c635-b958-4152-b0c2-9d201cff738c"
      },
      "execution_count": 20,
      "outputs": [
        {
          "output_type": "display_data",
          "data": {
            "text/plain": [
              "<Figure size 432x288 with 1 Axes>"
            ],
            "image/png": "[encoded data removed]"
          },
          "metadata": {
            "needs_background": "light"
          }
        },
        {
          "output_type": "display_data",
          "data": {
            "text/plain": [
              "<Figure size 432x288 with 1 Axes>"
            ],
            "image/png": "[encoded data removed]"
          },
          "metadata": {
            "needs_background": "light"
          }
        }
      ]
    },
    {
      "cell_type": "markdown",
      "source": [
        "# Predicting Modelling"
      ],
      "metadata": {
        "id": "Gzf93GqgClw5"
      }
    },
    {
      "cell_type": "code",
      "source": [
        "Prediction = cnn_model1.predict(X_test)"
      ],
      "metadata": {
        "id": "wDpUWqYfCr-d"
      },
      "execution_count": 22,
      "outputs": []
    },
    {
      "cell_type": "code",
      "source": [
        "Prediction1 = np.argmax(Prediction, axis=1)\n"
      ],
      "metadata": {
        "id": "gt8AS8BxEqLy"
      },
      "execution_count": 26,
      "outputs": []
    },
    {
      "cell_type": "code",
      "source": [
        "from sklearn.metrics import classification_report, confusion_matrix\n",
        "print(classification_report(y_test,Prediction1))"
      ],
      "metadata": {
        "colab": {
          "base_uri": "https://localhost:8080/"
        },
        "id": "_d5-5cRJEU54",
        "outputId": "ac0fa52c-6933-4651-9183-ca9601fd9929"
      },
      "execution_count": 27,
      "outputs": [
        {
          "output_type": "stream",
          "name": "stdout",
          "text": [
            "              precision    recall  f1-score   support\n",
            "\n",
            "           0       0.99      0.98      0.98       900\n",
            "           1       0.98      1.00      0.99       900\n",
            "           2       1.00      0.99      0.99       900\n",
            "           3       1.00      0.96      0.98       900\n",
            "           4       0.98      0.97      0.98       900\n",
            "           5       0.98      1.00      0.99       900\n",
            "           6       0.99      0.97      0.98       900\n",
            "           7       0.98      0.99      0.99       900\n",
            "           8       0.99      0.99      0.99       900\n",
            "           9       0.99      1.00      0.99       900\n",
            "          10       1.00      1.00      1.00       900\n",
            "          11       0.99      1.00      0.99       900\n",
            "          12       0.96      0.99      0.97       900\n",
            "          13       0.99      0.95      0.97       900\n",
            "          14       0.97      0.99      0.98       900\n",
            "          15       1.00      1.00      1.00       900\n",
            "          16       1.00      1.00      1.00       900\n",
            "          17       0.99      0.99      0.99       900\n",
            "          18       0.99      0.97      0.98       900\n",
            "          19       0.97      0.99      0.98       900\n",
            "          20       0.98      0.98      0.98       900\n",
            "          21       0.96      0.95      0.96       900\n",
            "          22       0.95      0.98      0.96       900\n",
            "          23       0.98      1.00      0.99       900\n",
            "          24       1.00      0.99      0.99       900\n",
            "          25       0.99      0.99      0.99       900\n",
            "          26       1.00      1.00      1.00       900\n",
            "          27       1.00      1.00      1.00       900\n",
            "          28       1.00      1.00      1.00       900\n",
            "\n",
            "    accuracy                           0.99     26100\n",
            "   macro avg       0.99      0.99      0.99     26100\n",
            "weighted avg       0.99      0.99      0.99     26100\n",
            "\n"
          ]
        }
      ]
    },
    {
      "cell_type": "code",
      "source": [
        "from keras.models import load_model"
      ],
      "metadata": {
        "id": "djBSJ6zvFNvo"
      },
      "execution_count": 30,
      "outputs": []
    },
    {
      "cell_type": "code",
      "source": [
        "cnn_model1.save_weights('cnn_asl_weights.h5')\n",
        "cnn_model1.save('cnn_asl.h5')"
      ],
      "metadata": {
        "id": "2YW3FnHHFdX4"
      },
      "execution_count": 31,
      "outputs": []
    }
  ]
}